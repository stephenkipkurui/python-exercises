{
 "cells": [
  {
   "cell_type": "markdown",
   "id": "2a1f4324",
   "metadata": {},
   "source": [
    "print('Hello Data Science World')\n"
   ]
  },
  {
   "cell_type": "code",
   "execution_count": 3,
   "id": "186f9a8f",
   "metadata": {},
   "outputs": [
    {
     "name": "stdout",
     "output_type": "stream",
     "text": [
      "Morning, Stephen\n"
     ]
    }
   ],
   "source": [
    "\n",
    "name = 'Stephen'\n",
    "greeting = 'Morning, '+ name\n",
    "\n",
    "print(greeting)"
   ]
  },
  {
   "cell_type": "markdown",
   "id": "46eddd0f",
   "metadata": {},
   "source": [
    "Jupyter Markdown"
   ]
  },
  {
   "cell_type": "code",
   "execution_count": 16,
   "id": "36fd36d8",
   "metadata": {},
   "outputs": [
    {
     "name": "stdout",
     "output_type": "stream",
     "text": [
      "What' your first name?Steve\n",
      "What is your last name?Kip\n"
     ]
    },
    {
     "data": {
      "text/plain": [
       "('Steve', 'Kip')"
      ]
     },
     "execution_count": 16,
     "metadata": {},
     "output_type": "execute_result"
    }
   ],
   "source": [
    "def name(firstname, lastname):\n",
    "    firstname = input(str('What\\' your first name?'))\n",
    "    \n",
    "    lastname = input(str('What is your last name?'))\n",
    "    \n",
    "    return firstname, lastname\n",
    "\n",
    "name('Stephen', 'Kip')"
   ]
  },
  {
   "cell_type": "markdown",
   "id": "91823c60",
   "metadata": {},
   "source": []
  },
  {
   "cell_type": "markdown",
   "id": "dbdd6aca",
   "metadata": {},
   "source": [
    "Shortcuts in both command and edit modes:\n",
    "Shift + Enter run the current cell, select below\n",
    "Ctrl + Enter run selected cells\n",
    "Alt + Enter run the current cell, insert below\n",
    "Ctrl + S save and checkpoint\n",
    "\n",
    "\n",
    "Shortcuts when in edit mode:\n",
    "Esc take you into command mode\n",
    "Tab code completion or indent\n",
    "Shift + Tab tooltip\n",
    "Ctrl + ] indent\n",
    "Ctrl + [ dedent\n",
    "Ctrl + A select all\n",
    "Ctrl + Z undo\n",
    "Ctrl + Shift + Z or Ctrl + Y redo\n",
    "Ctrl + Home go to cell start\n",
    "Ctrl + End go to the cell end\n",
    "Ctrl + Left go one word left\n",
    "Ctrl + Right go one word right"
   ]
  }
 ],
 "metadata": {
  "kernelspec": {
   "display_name": "Python 3 (ipykernel)",
   "language": "python",
   "name": "python3"
  },
  "language_info": {
   "codemirror_mode": {
    "name": "ipython",
    "version": 3
   },
   "file_extension": ".py",
   "mimetype": "text/x-python",
   "name": "python",
   "nbconvert_exporter": "python",
   "pygments_lexer": "ipython3",
   "version": "3.9.7"
  }
 },
 "nbformat": 4,
 "nbformat_minor": 5
}
